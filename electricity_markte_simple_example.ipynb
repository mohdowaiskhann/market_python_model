{
 "cells": [
  {
   "cell_type": "code",
   "id": "initial_id",
   "metadata": {
    "collapsed": true,
    "ExecuteTime": {
     "end_time": "2025-01-21T17:07:42.363109Z",
     "start_time": "2025-01-21T17:07:42.354464Z"
    }
   },
   "source": [
    "import numpy as np\n",
    "import pypsa"
   ],
   "outputs": [],
   "execution_count": 14
  },
  {
   "metadata": {
    "ExecuteTime": {
     "end_time": "2025-01-21T17:07:42.393236Z",
     "start_time": "2025-01-21T17:07:42.378119Z"
    }
   },
   "cell_type": "code",
   "source": [
    "# marginal costs in EUR/MWh\n",
    "marginal_cost = {\"Wind\": 0, \"Hydro\": 0, \"Coal\": 30, \"Gas\": 60, \"Oil\": 80}\n",
    "\n",
    "# power plant capacities (nominal powers in MW) in each country (not necessarily realistic)\n",
    "power_plant_p_nom_ = {\n",
    "    \"South Africa\": {\"Coal\": 35000, \"Wind\": 3000, \"Gas\": 8000, \"Oil\": 2000},\n",
    "    \"Mozambique\": {\n",
    "        \"Hydro\": 1200,\n",
    "    },\n",
    "    \"Swaziland\": {\n",
    "        \"Hydro\": 600,\n",
    "    },\n",
    "}\n",
    "\n",
    "# transmission capacities in MW (not necessarily realistic)\n",
    "transmission = {\n",
    "    \"South Africa\": {\"Mozambique\": 500, \"Swaziland\": 250},\n",
    "    \"Mozambique\": {\"Swaziland\": 100},\n",
    "}\n",
    "\n",
    "# country electrical loads in MW (not necessarily realistic)\n",
    "loads = {\"South Africa\": 42000, \"Mozambique\": 650, \"Swaziland\": 250}"
   ],
   "id": "e4137fed9a7c9062",
   "outputs": [],
   "execution_count": 15
  },
  {
   "metadata": {
    "ExecuteTime": {
     "end_time": "2025-01-21T17:07:42.812610Z",
     "start_time": "2025-01-21T17:07:42.422918Z"
    }
   },
   "cell_type": "code",
   "source": [
    "country=\"South Africa\"\n",
    "network=pypsa.Network()\n",
    "network.add(\"Bus\",country)\n",
    "for tech in power_plant_p_nom_[country]:\n",
    "    network.add(\n",
    "        \"Generator\",\n",
    "        f\"{country} {tech}\",\n",
    "        bus=country,\n",
    "        p_nom=power_plant_p_nom_[country][tech],\n",
    "        marginal_cost=marginal_cost[tech],\n",
    "    )\n",
    "network.add(\"Load\", f\"{country} load\", bus=country, p_set=loads[country])"
   ],
   "id": "d284c8bb7129a378",
   "outputs": [
    {
     "data": {
      "text/plain": [
       "Index(['South Africa load'], dtype='object')"
      ]
     },
     "execution_count": 16,
     "metadata": {},
     "output_type": "execute_result"
    }
   ],
   "execution_count": 16
  },
  {
   "metadata": {
    "ExecuteTime": {
     "end_time": "2025-01-21T17:08:20.333497Z",
     "start_time": "2025-01-21T17:08:19.665339Z"
    }
   },
   "cell_type": "code",
   "source": [
    "# Run optimisation to determine market dispatch\n",
    "network.optimize()"
   ],
   "id": "6fca84c831cd15d8",
   "outputs": [
    {
     "name": "stderr",
     "output_type": "stream",
     "text": [
      "WARNING:pypsa.consistency:The following buses have carriers which are not defined:\n",
      "Index(['South Africa'], dtype='object', name='Bus')\n",
      "WARNING:pypsa.consistency:The following buses have carriers which are not defined:\n",
      "Index(['South Africa'], dtype='object', name='Bus')\n",
      "INFO:linopy.model: Solve problem using Highs solver\n",
      "INFO:linopy.io: Writing time: 0.02s\n",
      "INFO:linopy.constants: Optimization successful: \n",
      "Status: ok\n",
      "Termination condition: optimal\n",
      "Solution: 4 primals, 9 duals\n",
      "Objective: 1.29e+06\n",
      "Solver model: available\n",
      "Solver message: optimal\n",
      "\n",
      "INFO:pypsa.optimization.optimize:The shadow-prices of the constraints Generator-fix-p-lower, Generator-fix-p-upper were not assigned to the network.\n"
     ]
    },
    {
     "data": {
      "text/plain": [
       "('ok', 'optimal')"
      ]
     },
     "execution_count": 18,
     "metadata": {},
     "output_type": "execute_result"
    }
   ],
   "execution_count": 18
  },
  {
   "metadata": {
    "ExecuteTime": {
     "end_time": "2025-01-21T17:08:26.079640Z",
     "start_time": "2025-01-21T17:08:26.049645Z"
    }
   },
   "cell_type": "code",
   "source": "network.loads_t.p",
   "id": "ff3d5d7f49323940",
   "outputs": [
    {
     "data": {
      "text/plain": [
       "Load      South Africa load\n",
       "snapshot                   \n",
       "now                 42000.0"
      ],
      "text/html": [
       "<div>\n",
       "<style scoped>\n",
       "    .dataframe tbody tr th:only-of-type {\n",
       "        vertical-align: middle;\n",
       "    }\n",
       "\n",
       "    .dataframe tbody tr th {\n",
       "        vertical-align: top;\n",
       "    }\n",
       "\n",
       "    .dataframe thead th {\n",
       "        text-align: right;\n",
       "    }\n",
       "</style>\n",
       "<table border=\"1\" class=\"dataframe\">\n",
       "  <thead>\n",
       "    <tr style=\"text-align: right;\">\n",
       "      <th>Load</th>\n",
       "      <th>South Africa load</th>\n",
       "    </tr>\n",
       "    <tr>\n",
       "      <th>snapshot</th>\n",
       "      <th></th>\n",
       "    </tr>\n",
       "  </thead>\n",
       "  <tbody>\n",
       "    <tr>\n",
       "      <th>now</th>\n",
       "      <td>42000.0</td>\n",
       "    </tr>\n",
       "  </tbody>\n",
       "</table>\n",
       "</div>"
      ]
     },
     "execution_count": 19,
     "metadata": {},
     "output_type": "execute_result"
    }
   ],
   "execution_count": 19
  },
  {
   "metadata": {
    "ExecuteTime": {
     "end_time": "2025-01-21T17:08:47.406656Z",
     "start_time": "2025-01-21T17:08:47.384059Z"
    }
   },
   "cell_type": "code",
   "source": "network.generators_t.p",
   "id": "fd74d68fdd9ad33e",
   "outputs": [
    {
     "data": {
      "text/plain": [
       "Generator  South Africa Coal  South Africa Wind  South Africa Gas  \\\n",
       "snapshot                                                            \n",
       "now                  35000.0             3000.0            4000.0   \n",
       "\n",
       "Generator  South Africa Oil  \n",
       "snapshot                     \n",
       "now                    -0.0  "
      ],
      "text/html": [
       "<div>\n",
       "<style scoped>\n",
       "    .dataframe tbody tr th:only-of-type {\n",
       "        vertical-align: middle;\n",
       "    }\n",
       "\n",
       "    .dataframe tbody tr th {\n",
       "        vertical-align: top;\n",
       "    }\n",
       "\n",
       "    .dataframe thead th {\n",
       "        text-align: right;\n",
       "    }\n",
       "</style>\n",
       "<table border=\"1\" class=\"dataframe\">\n",
       "  <thead>\n",
       "    <tr style=\"text-align: right;\">\n",
       "      <th>Generator</th>\n",
       "      <th>South Africa Coal</th>\n",
       "      <th>South Africa Wind</th>\n",
       "      <th>South Africa Gas</th>\n",
       "      <th>South Africa Oil</th>\n",
       "    </tr>\n",
       "    <tr>\n",
       "      <th>snapshot</th>\n",
       "      <th></th>\n",
       "      <th></th>\n",
       "      <th></th>\n",
       "      <th></th>\n",
       "    </tr>\n",
       "  </thead>\n",
       "  <tbody>\n",
       "    <tr>\n",
       "      <th>now</th>\n",
       "      <td>35000.0</td>\n",
       "      <td>3000.0</td>\n",
       "      <td>4000.0</td>\n",
       "      <td>-0.0</td>\n",
       "    </tr>\n",
       "  </tbody>\n",
       "</table>\n",
       "</div>"
      ]
     },
     "execution_count": 21,
     "metadata": {},
     "output_type": "execute_result"
    }
   ],
   "execution_count": 21
  },
  {
   "metadata": {
    "ExecuteTime": {
     "end_time": "2025-01-21T17:30:35.883218Z",
     "start_time": "2025-01-21T17:30:35.799147Z"
    }
   },
   "cell_type": "code",
   "source": "network.buses_t.marginal_price",
   "id": "a03856a788887750",
   "outputs": [
    {
     "data": {
      "text/plain": [
       "Bus       South Africa\n",
       "snapshot              \n",
       "now               60.0"
      ],
      "text/html": [
       "<div>\n",
       "<style scoped>\n",
       "    .dataframe tbody tr th:only-of-type {\n",
       "        vertical-align: middle;\n",
       "    }\n",
       "\n",
       "    .dataframe tbody tr th {\n",
       "        vertical-align: top;\n",
       "    }\n",
       "\n",
       "    .dataframe thead th {\n",
       "        text-align: right;\n",
       "    }\n",
       "</style>\n",
       "<table border=\"1\" class=\"dataframe\">\n",
       "  <thead>\n",
       "    <tr style=\"text-align: right;\">\n",
       "      <th>Bus</th>\n",
       "      <th>South Africa</th>\n",
       "    </tr>\n",
       "    <tr>\n",
       "      <th>snapshot</th>\n",
       "      <th></th>\n",
       "    </tr>\n",
       "  </thead>\n",
       "  <tbody>\n",
       "    <tr>\n",
       "      <th>now</th>\n",
       "      <td>60.0</td>\n",
       "    </tr>\n",
       "  </tbody>\n",
       "</table>\n",
       "</div>"
      ]
     },
     "execution_count": 22,
     "metadata": {},
     "output_type": "execute_result"
    }
   ],
   "execution_count": 22
  },
  {
   "metadata": {},
   "cell_type": "code",
   "outputs": [],
   "execution_count": null,
   "source": "",
   "id": "75e9689a5468cd29"
  }
 ],
 "metadata": {
  "kernelspec": {
   "display_name": "Python 3",
   "language": "python",
   "name": "python3"
  },
  "language_info": {
   "codemirror_mode": {
    "name": "ipython",
    "version": 2
   },
   "file_extension": ".py",
   "mimetype": "text/x-python",
   "name": "python",
   "nbconvert_exporter": "python",
   "pygments_lexer": "ipython2",
   "version": "2.7.6"
  }
 },
 "nbformat": 4,
 "nbformat_minor": 5
}
