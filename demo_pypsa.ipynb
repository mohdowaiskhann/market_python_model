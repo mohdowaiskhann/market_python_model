{
 "cells": [
  {
   "cell_type": "code",
   "id": "initial_id",
   "metadata": {
    "collapsed": true,
    "ExecuteTime": {
     "end_time": "2025-01-20T14:28:21.278009Z",
     "start_time": "2025-01-20T14:28:21.141051Z"
    }
   },
   "source": [
    "import numpy as np\n",
    "import pypsa\n",
    "network=pypsa.Network()\n",
    "\n",
    "n_bus =3\n",
    "for i in range(n_bus):\n",
    "    network.add(\"Bus\", f\"My bus{i}\", v_nom=20.0)\n",
    "network.buses\n"
   ],
   "outputs": [
    {
     "data": {
      "text/plain": [
       "         v_nom type    x    y carrier unit  v_mag_pu_set  v_mag_pu_min  \\\n",
       "Bus                                                                      \n",
       "My bus0   20.0       0.0  0.0      AC                1.0           0.0   \n",
       "My bus1   20.0       0.0  0.0      AC                1.0           0.0   \n",
       "My bus2   20.0       0.0  0.0      AC                1.0           0.0   \n",
       "\n",
       "         v_mag_pu_max control generator sub_network  \n",
       "Bus                                                  \n",
       "My bus0           inf      PQ                        \n",
       "My bus1           inf      PQ                        \n",
       "My bus2           inf      PQ                        "
      ],
      "text/html": [
       "<div>\n",
       "<style scoped>\n",
       "    .dataframe tbody tr th:only-of-type {\n",
       "        vertical-align: middle;\n",
       "    }\n",
       "\n",
       "    .dataframe tbody tr th {\n",
       "        vertical-align: top;\n",
       "    }\n",
       "\n",
       "    .dataframe thead th {\n",
       "        text-align: right;\n",
       "    }\n",
       "</style>\n",
       "<table border=\"1\" class=\"dataframe\">\n",
       "  <thead>\n",
       "    <tr style=\"text-align: right;\">\n",
       "      <th></th>\n",
       "      <th>v_nom</th>\n",
       "      <th>type</th>\n",
       "      <th>x</th>\n",
       "      <th>y</th>\n",
       "      <th>carrier</th>\n",
       "      <th>unit</th>\n",
       "      <th>v_mag_pu_set</th>\n",
       "      <th>v_mag_pu_min</th>\n",
       "      <th>v_mag_pu_max</th>\n",
       "      <th>control</th>\n",
       "      <th>generator</th>\n",
       "      <th>sub_network</th>\n",
       "    </tr>\n",
       "    <tr>\n",
       "      <th>Bus</th>\n",
       "      <th></th>\n",
       "      <th></th>\n",
       "      <th></th>\n",
       "      <th></th>\n",
       "      <th></th>\n",
       "      <th></th>\n",
       "      <th></th>\n",
       "      <th></th>\n",
       "      <th></th>\n",
       "      <th></th>\n",
       "      <th></th>\n",
       "      <th></th>\n",
       "    </tr>\n",
       "  </thead>\n",
       "  <tbody>\n",
       "    <tr>\n",
       "      <th>My bus0</th>\n",
       "      <td>20.0</td>\n",
       "      <td></td>\n",
       "      <td>0.0</td>\n",
       "      <td>0.0</td>\n",
       "      <td>AC</td>\n",
       "      <td></td>\n",
       "      <td>1.0</td>\n",
       "      <td>0.0</td>\n",
       "      <td>inf</td>\n",
       "      <td>PQ</td>\n",
       "      <td></td>\n",
       "      <td></td>\n",
       "    </tr>\n",
       "    <tr>\n",
       "      <th>My bus1</th>\n",
       "      <td>20.0</td>\n",
       "      <td></td>\n",
       "      <td>0.0</td>\n",
       "      <td>0.0</td>\n",
       "      <td>AC</td>\n",
       "      <td></td>\n",
       "      <td>1.0</td>\n",
       "      <td>0.0</td>\n",
       "      <td>inf</td>\n",
       "      <td>PQ</td>\n",
       "      <td></td>\n",
       "      <td></td>\n",
       "    </tr>\n",
       "    <tr>\n",
       "      <th>My bus2</th>\n",
       "      <td>20.0</td>\n",
       "      <td></td>\n",
       "      <td>0.0</td>\n",
       "      <td>0.0</td>\n",
       "      <td>AC</td>\n",
       "      <td></td>\n",
       "      <td>1.0</td>\n",
       "      <td>0.0</td>\n",
       "      <td>inf</td>\n",
       "      <td>PQ</td>\n",
       "      <td></td>\n",
       "      <td></td>\n",
       "    </tr>\n",
       "  </tbody>\n",
       "</table>\n",
       "</div>"
      ]
     },
     "execution_count": 45,
     "metadata": {},
     "output_type": "execute_result"
    }
   ],
   "execution_count": 45
  },
  {
   "metadata": {},
   "cell_type": "code",
   "outputs": [],
   "execution_count": null,
   "source": "",
   "id": "3b749726c5cbbe9c"
  },
  {
   "metadata": {
    "ExecuteTime": {
     "end_time": "2025-01-20T14:28:21.386762Z",
     "start_time": "2025-01-20T14:28:21.326893Z"
    }
   },
   "cell_type": "code",
   "source": [
    "for i in range(n_bus):\n",
    "    network.add(\"Line\",f\"My line{i}\",bus0=f\"My bus{i}\",bus1=f\"My bus{(i+1)% n_bus}\",x=0.1,r=0.1)\n",
    "network.lines"
   ],
   "id": "8cc5369bb6a308a6",
   "outputs": [
    {
     "data": {
      "text/plain": [
       "             bus0     bus1 type    x    r    g    b  s_nom  s_nom_mod  \\\n",
       "Line                                                                    \n",
       "My line0  My bus0  My bus1       0.1  0.1  0.0  0.0    0.0        0.0   \n",
       "My line1  My bus1  My bus2       0.1  0.1  0.0  0.0    0.0        0.0   \n",
       "My line2  My bus2  My bus0       0.1  0.1  0.0  0.0    0.0        0.0   \n",
       "\n",
       "          s_nom_extendable  ...  v_ang_min  v_ang_max  sub_network  x_pu  \\\n",
       "Line                        ...                                            \n",
       "My line0             False  ...       -inf        inf                0.0   \n",
       "My line1             False  ...       -inf        inf                0.0   \n",
       "My line2             False  ...       -inf        inf                0.0   \n",
       "\n",
       "          r_pu  g_pu  b_pu  x_pu_eff r_pu_eff  s_nom_opt  \n",
       "Line                                                      \n",
       "My line0   0.0   0.0   0.0       0.0      0.0        0.0  \n",
       "My line1   0.0   0.0   0.0       0.0      0.0        0.0  \n",
       "My line2   0.0   0.0   0.0       0.0      0.0        0.0  \n",
       "\n",
       "[3 rows x 31 columns]"
      ],
      "text/html": [
       "<div>\n",
       "<style scoped>\n",
       "    .dataframe tbody tr th:only-of-type {\n",
       "        vertical-align: middle;\n",
       "    }\n",
       "\n",
       "    .dataframe tbody tr th {\n",
       "        vertical-align: top;\n",
       "    }\n",
       "\n",
       "    .dataframe thead th {\n",
       "        text-align: right;\n",
       "    }\n",
       "</style>\n",
       "<table border=\"1\" class=\"dataframe\">\n",
       "  <thead>\n",
       "    <tr style=\"text-align: right;\">\n",
       "      <th></th>\n",
       "      <th>bus0</th>\n",
       "      <th>bus1</th>\n",
       "      <th>type</th>\n",
       "      <th>x</th>\n",
       "      <th>r</th>\n",
       "      <th>g</th>\n",
       "      <th>b</th>\n",
       "      <th>s_nom</th>\n",
       "      <th>s_nom_mod</th>\n",
       "      <th>s_nom_extendable</th>\n",
       "      <th>...</th>\n",
       "      <th>v_ang_min</th>\n",
       "      <th>v_ang_max</th>\n",
       "      <th>sub_network</th>\n",
       "      <th>x_pu</th>\n",
       "      <th>r_pu</th>\n",
       "      <th>g_pu</th>\n",
       "      <th>b_pu</th>\n",
       "      <th>x_pu_eff</th>\n",
       "      <th>r_pu_eff</th>\n",
       "      <th>s_nom_opt</th>\n",
       "    </tr>\n",
       "    <tr>\n",
       "      <th>Line</th>\n",
       "      <th></th>\n",
       "      <th></th>\n",
       "      <th></th>\n",
       "      <th></th>\n",
       "      <th></th>\n",
       "      <th></th>\n",
       "      <th></th>\n",
       "      <th></th>\n",
       "      <th></th>\n",
       "      <th></th>\n",
       "      <th></th>\n",
       "      <th></th>\n",
       "      <th></th>\n",
       "      <th></th>\n",
       "      <th></th>\n",
       "      <th></th>\n",
       "      <th></th>\n",
       "      <th></th>\n",
       "      <th></th>\n",
       "      <th></th>\n",
       "      <th></th>\n",
       "    </tr>\n",
       "  </thead>\n",
       "  <tbody>\n",
       "    <tr>\n",
       "      <th>My line0</th>\n",
       "      <td>My bus0</td>\n",
       "      <td>My bus1</td>\n",
       "      <td></td>\n",
       "      <td>0.1</td>\n",
       "      <td>0.1</td>\n",
       "      <td>0.0</td>\n",
       "      <td>0.0</td>\n",
       "      <td>0.0</td>\n",
       "      <td>0.0</td>\n",
       "      <td>False</td>\n",
       "      <td>...</td>\n",
       "      <td>-inf</td>\n",
       "      <td>inf</td>\n",
       "      <td></td>\n",
       "      <td>0.0</td>\n",
       "      <td>0.0</td>\n",
       "      <td>0.0</td>\n",
       "      <td>0.0</td>\n",
       "      <td>0.0</td>\n",
       "      <td>0.0</td>\n",
       "      <td>0.0</td>\n",
       "    </tr>\n",
       "    <tr>\n",
       "      <th>My line1</th>\n",
       "      <td>My bus1</td>\n",
       "      <td>My bus2</td>\n",
       "      <td></td>\n",
       "      <td>0.1</td>\n",
       "      <td>0.1</td>\n",
       "      <td>0.0</td>\n",
       "      <td>0.0</td>\n",
       "      <td>0.0</td>\n",
       "      <td>0.0</td>\n",
       "      <td>False</td>\n",
       "      <td>...</td>\n",
       "      <td>-inf</td>\n",
       "      <td>inf</td>\n",
       "      <td></td>\n",
       "      <td>0.0</td>\n",
       "      <td>0.0</td>\n",
       "      <td>0.0</td>\n",
       "      <td>0.0</td>\n",
       "      <td>0.0</td>\n",
       "      <td>0.0</td>\n",
       "      <td>0.0</td>\n",
       "    </tr>\n",
       "    <tr>\n",
       "      <th>My line2</th>\n",
       "      <td>My bus2</td>\n",
       "      <td>My bus0</td>\n",
       "      <td></td>\n",
       "      <td>0.1</td>\n",
       "      <td>0.1</td>\n",
       "      <td>0.0</td>\n",
       "      <td>0.0</td>\n",
       "      <td>0.0</td>\n",
       "      <td>0.0</td>\n",
       "      <td>False</td>\n",
       "      <td>...</td>\n",
       "      <td>-inf</td>\n",
       "      <td>inf</td>\n",
       "      <td></td>\n",
       "      <td>0.0</td>\n",
       "      <td>0.0</td>\n",
       "      <td>0.0</td>\n",
       "      <td>0.0</td>\n",
       "      <td>0.0</td>\n",
       "      <td>0.0</td>\n",
       "      <td>0.0</td>\n",
       "    </tr>\n",
       "  </tbody>\n",
       "</table>\n",
       "<p>3 rows × 31 columns</p>\n",
       "</div>"
      ]
     },
     "execution_count": 46,
     "metadata": {},
     "output_type": "execute_result"
    }
   ],
   "execution_count": 46
  },
  {
   "metadata": {
    "ExecuteTime": {
     "end_time": "2025-01-20T14:28:21.513141Z",
     "start_time": "2025-01-20T14:28:21.483187Z"
    }
   },
   "cell_type": "code",
   "source": [
    "network.add(\"Generator\",\"My gen\", bus=\"My bus0\", p_set=100, control=\"PQ\")\n",
    "network.generators\n",
    "network.generators.p_set"
   ],
   "id": "448c3d7e46dd95d8",
   "outputs": [
    {
     "data": {
      "text/plain": [
       "Generator\n",
       "My gen    100.0\n",
       "Name: p_set, dtype: float64"
      ]
     },
     "execution_count": 47,
     "metadata": {},
     "output_type": "execute_result"
    }
   ],
   "execution_count": 47
  },
  {
   "metadata": {
    "ExecuteTime": {
     "end_time": "2025-01-20T14:28:21.638469Z",
     "start_time": "2025-01-20T14:28:21.624878Z"
    }
   },
   "cell_type": "code",
   "source": [
    "network.add(\"Load\",\"My load\",bus= \"My bus1\",p_set=100)\n",
    "network.loads\n",
    "network.loads.p_set\n",
    "network.loads.q_set=100.0"
   ],
   "id": "9a2fee3f47c77346",
   "outputs": [],
   "execution_count": 48
  },
  {
   "metadata": {
    "ExecuteTime": {
     "end_time": "2025-01-20T14:28:21.916691Z",
     "start_time": "2025-01-20T14:28:21.711834Z"
    }
   },
   "cell_type": "code",
   "source": "network.pf()",
   "id": "f0b88520b15511f2",
   "outputs": [
    {
     "name": "stderr",
     "output_type": "stream",
     "text": [
      "INFO:pypsa.pf:Performing non-linear load-flow on AC sub-network <pypsa.components.SubNetwork object at 0x000002950DBF4100> for snapshots Index(['now'], dtype='object', name='snapshot')\n"
     ]
    },
    {
     "data": {
      "text/plain": [
       "{'n_iter': SubNetwork  0\n",
       " snapshot     \n",
       " now         3,\n",
       " 'error': SubNetwork             0\n",
       " snapshot                \n",
       " now         6.952632e-09,\n",
       " 'converged': SubNetwork     0\n",
       " snapshot        \n",
       " now         True}"
      ]
     },
     "execution_count": 49,
     "metadata": {},
     "output_type": "execute_result"
    }
   ],
   "execution_count": 49
  },
  {
   "metadata": {
    "ExecuteTime": {
     "end_time": "2025-01-20T14:28:21.947701Z",
     "start_time": "2025-01-20T14:28:21.926691Z"
    }
   },
   "cell_type": "code",
   "source": "network.lines_t.p0\n",
   "id": "76981807994af368",
   "outputs": [
    {
     "data": {
      "text/plain": [
       "           My line0   My line1   My line2\n",
       "snapshot                                 \n",
       "now       69.050664 -33.333333 -33.929333"
      ],
      "text/html": [
       "<div>\n",
       "<style scoped>\n",
       "    .dataframe tbody tr th:only-of-type {\n",
       "        vertical-align: middle;\n",
       "    }\n",
       "\n",
       "    .dataframe tbody tr th {\n",
       "        vertical-align: top;\n",
       "    }\n",
       "\n",
       "    .dataframe thead th {\n",
       "        text-align: right;\n",
       "    }\n",
       "</style>\n",
       "<table border=\"1\" class=\"dataframe\">\n",
       "  <thead>\n",
       "    <tr style=\"text-align: right;\">\n",
       "      <th></th>\n",
       "      <th>My line0</th>\n",
       "      <th>My line1</th>\n",
       "      <th>My line2</th>\n",
       "    </tr>\n",
       "    <tr>\n",
       "      <th>snapshot</th>\n",
       "      <th></th>\n",
       "      <th></th>\n",
       "      <th></th>\n",
       "    </tr>\n",
       "  </thead>\n",
       "  <tbody>\n",
       "    <tr>\n",
       "      <th>now</th>\n",
       "      <td>69.050664</td>\n",
       "      <td>-33.333333</td>\n",
       "      <td>-33.929333</td>\n",
       "    </tr>\n",
       "  </tbody>\n",
       "</table>\n",
       "</div>"
      ]
     },
     "execution_count": 50,
     "metadata": {},
     "output_type": "execute_result"
    }
   ],
   "execution_count": 50
  },
  {
   "metadata": {
    "ExecuteTime": {
     "end_time": "2025-01-20T14:37:34.318590Z",
     "start_time": "2025-01-20T14:37:34.307630Z"
    }
   },
   "cell_type": "code",
   "source": "network.buses_t.v_ang * 180 / np.pi",
   "id": "34eacac3fcc11981",
   "outputs": [
    {
     "data": {
      "text/plain": [
       "Bus       My bus0       My bus1       My bus2\n",
       "snapshot                                     \n",
       "now           0.0  6.212021e-18  3.220753e-18"
      ],
      "text/html": [
       "<div>\n",
       "<style scoped>\n",
       "    .dataframe tbody tr th:only-of-type {\n",
       "        vertical-align: middle;\n",
       "    }\n",
       "\n",
       "    .dataframe tbody tr th {\n",
       "        vertical-align: top;\n",
       "    }\n",
       "\n",
       "    .dataframe thead th {\n",
       "        text-align: right;\n",
       "    }\n",
       "</style>\n",
       "<table border=\"1\" class=\"dataframe\">\n",
       "  <thead>\n",
       "    <tr style=\"text-align: right;\">\n",
       "      <th>Bus</th>\n",
       "      <th>My bus0</th>\n",
       "      <th>My bus1</th>\n",
       "      <th>My bus2</th>\n",
       "    </tr>\n",
       "    <tr>\n",
       "      <th>snapshot</th>\n",
       "      <th></th>\n",
       "      <th></th>\n",
       "      <th></th>\n",
       "    </tr>\n",
       "  </thead>\n",
       "  <tbody>\n",
       "    <tr>\n",
       "      <th>now</th>\n",
       "      <td>0.0</td>\n",
       "      <td>6.212021e-18</td>\n",
       "      <td>3.220753e-18</td>\n",
       "    </tr>\n",
       "  </tbody>\n",
       "</table>\n",
       "</div>"
      ]
     },
     "execution_count": 62,
     "metadata": {},
     "output_type": "execute_result"
    }
   ],
   "execution_count": 62
  },
  {
   "metadata": {
    "ExecuteTime": {
     "end_time": "2025-01-20T14:37:44.532426Z",
     "start_time": "2025-01-20T14:37:44.514441Z"
    }
   },
   "cell_type": "code",
   "source": "network.buses_t.v_mag_pu",
   "id": "24a629faac3c5950",
   "outputs": [
    {
     "data": {
      "text/plain": [
       "Bus       My bus0   My bus1   My bus2\n",
       "snapshot                             \n",
       "now           1.0  0.965475  0.982737"
      ],
      "text/html": [
       "<div>\n",
       "<style scoped>\n",
       "    .dataframe tbody tr th:only-of-type {\n",
       "        vertical-align: middle;\n",
       "    }\n",
       "\n",
       "    .dataframe tbody tr th {\n",
       "        vertical-align: top;\n",
       "    }\n",
       "\n",
       "    .dataframe thead th {\n",
       "        text-align: right;\n",
       "    }\n",
       "</style>\n",
       "<table border=\"1\" class=\"dataframe\">\n",
       "  <thead>\n",
       "    <tr style=\"text-align: right;\">\n",
       "      <th>Bus</th>\n",
       "      <th>My bus0</th>\n",
       "      <th>My bus1</th>\n",
       "      <th>My bus2</th>\n",
       "    </tr>\n",
       "    <tr>\n",
       "      <th>snapshot</th>\n",
       "      <th></th>\n",
       "      <th></th>\n",
       "      <th></th>\n",
       "    </tr>\n",
       "  </thead>\n",
       "  <tbody>\n",
       "    <tr>\n",
       "      <th>now</th>\n",
       "      <td>1.0</td>\n",
       "      <td>0.965475</td>\n",
       "      <td>0.982737</td>\n",
       "    </tr>\n",
       "  </tbody>\n",
       "</table>\n",
       "</div>"
      ]
     },
     "execution_count": 63,
     "metadata": {},
     "output_type": "execute_result"
    }
   ],
   "execution_count": 63
  }
 ],
 "metadata": {
  "kernelspec": {
   "display_name": "Python 3",
   "language": "python",
   "name": "python3"
  },
  "language_info": {
   "codemirror_mode": {
    "name": "ipython",
    "version": 2
   },
   "file_extension": ".py",
   "mimetype": "text/x-python",
   "name": "python",
   "nbconvert_exporter": "python",
   "pygments_lexer": "ipython2",
   "version": "2.7.6"
  }
 },
 "nbformat": 4,
 "nbformat_minor": 5
}
