{
 "cells": [
  {
   "cell_type": "code",
   "id": "initial_id",
   "metadata": {
    "collapsed": true,
    "ExecuteTime": {
     "end_time": "2025-01-21T17:32:03.531348Z",
     "start_time": "2025-01-21T17:32:01.328560Z"
    }
   },
   "source": [
    "import numpy as np\n",
    "import pypsa"
   ],
   "outputs": [],
   "execution_count": 1
  },
  {
   "metadata": {
    "ExecuteTime": {
     "end_time": "2025-01-21T17:32:44.362520Z",
     "start_time": "2025-01-21T17:32:44.345715Z"
    }
   },
   "cell_type": "code",
   "source": [
    "# marginal costs in EUR/MWh\n",
    "marginal_cost = {\"Wind\": 0, \"Hydro\": 0, \"Coal\": 30, \"Gas\": 60, \"Oil\": 80}\n",
    "\n",
    "# power plant capacities (nominal powers in MW) in each country (not necessarily realistic)\n",
    "power_plant_p_nom_ = {\n",
    "    \"South Africa\": {\"Coal\": 35000, \"Wind\": 3000, \"Gas\": 8000, \"Oil\": 2000},\n",
    "    \"Mozambique\": {\n",
    "        \"Hydro\": 1200,\n",
    "    },\n",
    "    \"Swaziland\": {\n",
    "        \"Hydro\": 600,\n",
    "    },\n",
    "}\n",
    "\n",
    "# transmission capacities in MW (not necessarily realistic)\n",
    "transmission = {\n",
    "    \"South Africa\": {\"Mozambique\": 500, \"Swaziland\": 250},\n",
    "    \"Mozambique\": {\"Swaziland\": 100},\n",
    "}\n",
    "\n",
    "# country electrical loads in MW (not necessarily realistic)\n",
    "loads = {\"South Africa\": 42000, \"Mozambique\": 650, \"Swaziland\": 250}"
   ],
   "id": "cca7c742d61e9811",
   "outputs": [],
   "execution_count": 2
  },
  {
   "metadata": {
    "ExecuteTime": {
     "end_time": "2025-01-21T17:36:06.193436Z",
     "start_time": "2025-01-21T17:36:05.951773Z"
    }
   },
   "cell_type": "code",
   "source": [
    "network=pypsa.Network()\n",
    "countries = [\"Mozambique\", \"South Africa\"]\n",
    "\n",
    "for country in countries:\n",
    "    network.add(\"Bus\", country)\n",
    "\n",
    "    for fuel_type in power_plant_p_nom_[country]:\n",
    "        network.add(\n",
    "            \"Generator\",\n",
    "            f\"{country} {fuel_type}\",\n",
    "            bus=country,\n",
    "            p_nom=power_plant_p_nom_[country][fuel_type],\n",
    "            marginal_cost=marginal_cost[fuel_type],\n",
    "        )\n",
    "\n",
    "    network.add(\"Load\", f\"{country} load\", bus=country, p_set=loads[country])\n",
    "\n",
    "    # add transmission as controllable Link\n",
    "    if country not in transmission:\n",
    "        continue\n",
    "\n",
    "    for other_country in countries:\n",
    "        if other_country not in transmission[country]:\n",
    "            continue\n",
    "\n",
    "        # NB: Link is by default unidirectional, so have to set p_min_pu = -1\n",
    "        # to allow bidirectional (i.e. also negative) flow\n",
    "        network.add(\n",
    "            \"Link\",\n",
    "            f\"{country} - {other_country} link\",\n",
    "            bus0=country,\n",
    "            bus1=other_country,\n",
    "            p_nom=transmission[country][other_country],\n",
    "            p_min_pu=-1,\n",
    "        )"
   ],
   "id": "f4abbee60bd8109",
   "outputs": [],
   "execution_count": 3
  },
  {
   "metadata": {
    "ExecuteTime": {
     "end_time": "2025-01-21T17:36:17.104777Z",
     "start_time": "2025-01-21T17:36:16.219974Z"
    }
   },
   "cell_type": "code",
   "source": "network.optimize()",
   "id": "9da29482b08e5f37",
   "outputs": [
    {
     "name": "stderr",
     "output_type": "stream",
     "text": [
      "WARNING:pypsa.consistency:The following links have carriers which are not defined:\n",
      "Index(['South Africa - Mozambique link'], dtype='object', name='Link')\n",
      "WARNING:pypsa.consistency:The following buses have carriers which are not defined:\n",
      "Index(['Mozambique', 'South Africa'], dtype='object', name='Bus')\n",
      "WARNING:pypsa.consistency:The following links have carriers which are not defined:\n",
      "Index(['South Africa - Mozambique link'], dtype='object', name='Link')\n",
      "WARNING:pypsa.consistency:The following buses have carriers which are not defined:\n",
      "Index(['Mozambique', 'South Africa'], dtype='object', name='Bus')\n",
      "INFO:linopy.model: Solve problem using Highs solver\n",
      "INFO:linopy.io: Writing time: 0.02s\n",
      "INFO:linopy.constants: Optimization successful: \n",
      "Status: ok\n",
      "Termination condition: optimal\n",
      "Solution: 6 primals, 14 duals\n",
      "Objective: 1.26e+06\n",
      "Solver model: available\n",
      "Solver message: optimal\n",
      "\n",
      "INFO:pypsa.optimization.optimize:The shadow-prices of the constraints Generator-fix-p-lower, Generator-fix-p-upper, Link-fix-p-lower, Link-fix-p-upper were not assigned to the network.\n"
     ]
    },
    {
     "data": {
      "text/plain": [
       "('ok', 'optimal')"
      ]
     },
     "execution_count": 4,
     "metadata": {},
     "output_type": "execute_result"
    }
   ],
   "execution_count": 4
  },
  {
   "metadata": {
    "ExecuteTime": {
     "end_time": "2025-01-21T17:36:38.364361Z",
     "start_time": "2025-01-21T17:36:38.337362Z"
    }
   },
   "cell_type": "code",
   "source": "network.loads_t.p",
   "id": "71b2cf3fc9713193",
   "outputs": [
    {
     "data": {
      "text/plain": [
       "Load      Mozambique load  South Africa load\n",
       "snapshot                                    \n",
       "now                 650.0            42000.0"
      ],
      "text/html": [
       "<div>\n",
       "<style scoped>\n",
       "    .dataframe tbody tr th:only-of-type {\n",
       "        vertical-align: middle;\n",
       "    }\n",
       "\n",
       "    .dataframe tbody tr th {\n",
       "        vertical-align: top;\n",
       "    }\n",
       "\n",
       "    .dataframe thead th {\n",
       "        text-align: right;\n",
       "    }\n",
       "</style>\n",
       "<table border=\"1\" class=\"dataframe\">\n",
       "  <thead>\n",
       "    <tr style=\"text-align: right;\">\n",
       "      <th>Load</th>\n",
       "      <th>Mozambique load</th>\n",
       "      <th>South Africa load</th>\n",
       "    </tr>\n",
       "    <tr>\n",
       "      <th>snapshot</th>\n",
       "      <th></th>\n",
       "      <th></th>\n",
       "    </tr>\n",
       "  </thead>\n",
       "  <tbody>\n",
       "    <tr>\n",
       "      <th>now</th>\n",
       "      <td>650.0</td>\n",
       "      <td>42000.0</td>\n",
       "    </tr>\n",
       "  </tbody>\n",
       "</table>\n",
       "</div>"
      ]
     },
     "execution_count": 5,
     "metadata": {},
     "output_type": "execute_result"
    }
   ],
   "execution_count": 5
  },
  {
   "metadata": {
    "ExecuteTime": {
     "end_time": "2025-01-21T17:36:55.341087Z",
     "start_time": "2025-01-21T17:36:55.330086Z"
    }
   },
   "cell_type": "code",
   "source": "network.generators_t.p",
   "id": "41ddf181dc5dd1cf",
   "outputs": [
    {
     "data": {
      "text/plain": [
       "Generator  Mozambique Hydro  South Africa Coal  South Africa Wind  \\\n",
       "snapshot                                                            \n",
       "now                  1150.0            35000.0             3000.0   \n",
       "\n",
       "Generator  South Africa Gas  South Africa Oil  \n",
       "snapshot                                       \n",
       "now                  3500.0              -0.0  "
      ],
      "text/html": [
       "<div>\n",
       "<style scoped>\n",
       "    .dataframe tbody tr th:only-of-type {\n",
       "        vertical-align: middle;\n",
       "    }\n",
       "\n",
       "    .dataframe tbody tr th {\n",
       "        vertical-align: top;\n",
       "    }\n",
       "\n",
       "    .dataframe thead th {\n",
       "        text-align: right;\n",
       "    }\n",
       "</style>\n",
       "<table border=\"1\" class=\"dataframe\">\n",
       "  <thead>\n",
       "    <tr style=\"text-align: right;\">\n",
       "      <th>Generator</th>\n",
       "      <th>Mozambique Hydro</th>\n",
       "      <th>South Africa Coal</th>\n",
       "      <th>South Africa Wind</th>\n",
       "      <th>South Africa Gas</th>\n",
       "      <th>South Africa Oil</th>\n",
       "    </tr>\n",
       "    <tr>\n",
       "      <th>snapshot</th>\n",
       "      <th></th>\n",
       "      <th></th>\n",
       "      <th></th>\n",
       "      <th></th>\n",
       "      <th></th>\n",
       "    </tr>\n",
       "  </thead>\n",
       "  <tbody>\n",
       "    <tr>\n",
       "      <th>now</th>\n",
       "      <td>1150.0</td>\n",
       "      <td>35000.0</td>\n",
       "      <td>3000.0</td>\n",
       "      <td>3500.0</td>\n",
       "      <td>-0.0</td>\n",
       "    </tr>\n",
       "  </tbody>\n",
       "</table>\n",
       "</div>"
      ]
     },
     "execution_count": 7,
     "metadata": {},
     "output_type": "execute_result"
    }
   ],
   "execution_count": 7
  },
  {
   "metadata": {
    "ExecuteTime": {
     "end_time": "2025-01-21T17:53:24.063629Z",
     "start_time": "2025-01-21T17:53:24.042148Z"
    }
   },
   "cell_type": "code",
   "source": "network.links_t.p1",
   "id": "184cc5fdc11f40d",
   "outputs": [
    {
     "data": {
      "text/plain": [
       "Link      South Africa - Mozambique link\n",
       "snapshot                                \n",
       "now                                500.0"
      ],
      "text/html": [
       "<div>\n",
       "<style scoped>\n",
       "    .dataframe tbody tr th:only-of-type {\n",
       "        vertical-align: middle;\n",
       "    }\n",
       "\n",
       "    .dataframe tbody tr th {\n",
       "        vertical-align: top;\n",
       "    }\n",
       "\n",
       "    .dataframe thead th {\n",
       "        text-align: right;\n",
       "    }\n",
       "</style>\n",
       "<table border=\"1\" class=\"dataframe\">\n",
       "  <thead>\n",
       "    <tr style=\"text-align: right;\">\n",
       "      <th>Link</th>\n",
       "      <th>South Africa - Mozambique link</th>\n",
       "    </tr>\n",
       "    <tr>\n",
       "      <th>snapshot</th>\n",
       "      <th></th>\n",
       "    </tr>\n",
       "  </thead>\n",
       "  <tbody>\n",
       "    <tr>\n",
       "      <th>now</th>\n",
       "      <td>500.0</td>\n",
       "    </tr>\n",
       "  </tbody>\n",
       "</table>\n",
       "</div>"
      ]
     },
     "execution_count": 11,
     "metadata": {},
     "output_type": "execute_result"
    }
   ],
   "execution_count": 11
  },
  {
   "metadata": {
    "ExecuteTime": {
     "end_time": "2025-01-21T17:53:54.380346Z",
     "start_time": "2025-01-21T17:53:54.359256Z"
    }
   },
   "cell_type": "code",
   "source": "network.buses_t.marginal_price",
   "id": "95cd3ec064b54f88",
   "outputs": [
    {
     "data": {
      "text/plain": [
       "Bus       Mozambique  South Africa\n",
       "snapshot                          \n",
       "now             -0.0          60.0"
      ],
      "text/html": [
       "<div>\n",
       "<style scoped>\n",
       "    .dataframe tbody tr th:only-of-type {\n",
       "        vertical-align: middle;\n",
       "    }\n",
       "\n",
       "    .dataframe tbody tr th {\n",
       "        vertical-align: top;\n",
       "    }\n",
       "\n",
       "    .dataframe thead th {\n",
       "        text-align: right;\n",
       "    }\n",
       "</style>\n",
       "<table border=\"1\" class=\"dataframe\">\n",
       "  <thead>\n",
       "    <tr style=\"text-align: right;\">\n",
       "      <th>Bus</th>\n",
       "      <th>Mozambique</th>\n",
       "      <th>South Africa</th>\n",
       "    </tr>\n",
       "    <tr>\n",
       "      <th>snapshot</th>\n",
       "      <th></th>\n",
       "      <th></th>\n",
       "    </tr>\n",
       "  </thead>\n",
       "  <tbody>\n",
       "    <tr>\n",
       "      <th>now</th>\n",
       "      <td>-0.0</td>\n",
       "      <td>60.0</td>\n",
       "    </tr>\n",
       "  </tbody>\n",
       "</table>\n",
       "</div>"
      ]
     },
     "execution_count": 12,
     "metadata": {},
     "output_type": "execute_result"
    }
   ],
   "execution_count": 12
  },
  {
   "metadata": {
    "ExecuteTime": {
     "end_time": "2025-01-21T18:21:15.390525Z",
     "start_time": "2025-01-21T18:21:14.978702Z"
    }
   },
   "cell_type": "code",
   "source": [
    "network = pypsa.Network()\n",
    "\n",
    "countries = [\"Swaziland\", \"Mozambique\", \"South Africa\"]\n",
    "\n",
    "for country in countries:\n",
    "    network.add(\"Bus\", country)\n",
    "\n",
    "    for fuel_type in power_plant_p_nom_[country]:\n",
    "        network.add(\n",
    "            \"Generator\",\n",
    "            f\"{country} {fuel_type}\",\n",
    "            bus=country,\n",
    "            p_nom=power_plant_p_nom_[country][fuel_type],\n",
    "            marginal_cost=marginal_cost[fuel_type],\n",
    "        )\n",
    "\n",
    "    network.add(\"Load\", f\"{country} load\", bus=country, p_set=loads[country])\n",
    "\n",
    "    # add transmission as controllable Link\n",
    "    if country not in transmission:\n",
    "        continue\n",
    "\n",
    "    for other_country in countries:\n",
    "        if other_country not in transmission[country]:\n",
    "            continue\n",
    "\n",
    "        # NB: Link is by default unidirectional, so have to set p_min_pu = -1\n",
    "        # to allow bidirectional (i.e. also negative) flow\n",
    "        network.add(\n",
    "            \"Link\",\n",
    "            f\"{country} - {other_country} link\",\n",
    "            bus0=country,\n",
    "            bus1=other_country,\n",
    "            p_nom=transmission[country][other_country],\n",
    "            p_min_pu=-1,\n",
    "        )"
   ],
   "id": "701c3107755deba8",
   "outputs": [],
   "execution_count": 13
  },
  {
   "metadata": {
    "ExecuteTime": {
     "end_time": "2025-01-21T18:21:45.645284Z",
     "start_time": "2025-01-21T18:21:44.731624Z"
    }
   },
   "cell_type": "code",
   "source": "network.optimize()",
   "id": "ba3fcd3cb6fd9584",
   "outputs": [
    {
     "name": "stderr",
     "output_type": "stream",
     "text": [
      "WARNING:pypsa.consistency:The following links have carriers which are not defined:\n",
      "Index(['Mozambique - Swaziland link', 'South Africa - Swaziland link',\n",
      "       'South Africa - Mozambique link'],\n",
      "      dtype='object', name='Link')\n",
      "WARNING:pypsa.consistency:The following buses have carriers which are not defined:\n",
      "Index(['Swaziland', 'Mozambique', 'South Africa'], dtype='object', name='Bus')\n",
      "WARNING:pypsa.consistency:The following links have carriers which are not defined:\n",
      "Index(['Mozambique - Swaziland link', 'South Africa - Swaziland link',\n",
      "       'South Africa - Mozambique link'],\n",
      "      dtype='object', name='Link')\n",
      "WARNING:pypsa.consistency:The following buses have carriers which are not defined:\n",
      "Index(['Swaziland', 'Mozambique', 'South Africa'], dtype='object', name='Bus')\n",
      "INFO:linopy.model: Solve problem using Highs solver\n",
      "INFO:linopy.io: Writing time: 0.3s\n",
      "INFO:linopy.constants: Optimization successful: \n",
      "Status: ok\n",
      "Termination condition: optimal\n",
      "Solution: 9 primals, 21 duals\n",
      "Objective: 1.24e+06\n",
      "Solver model: available\n",
      "Solver message: optimal\n",
      "\n",
      "INFO:pypsa.optimization.optimize:The shadow-prices of the constraints Generator-fix-p-lower, Generator-fix-p-upper, Link-fix-p-lower, Link-fix-p-upper were not assigned to the network.\n"
     ]
    },
    {
     "data": {
      "text/plain": [
       "('ok', 'optimal')"
      ]
     },
     "execution_count": 15,
     "metadata": {},
     "output_type": "execute_result"
    }
   ],
   "execution_count": 15
  },
  {
   "metadata": {
    "ExecuteTime": {
     "end_time": "2025-01-21T18:22:00.123127Z",
     "start_time": "2025-01-21T18:22:00.108801Z"
    }
   },
   "cell_type": "code",
   "source": "network.loads_t.p",
   "id": "e81d7d540ef20ef7",
   "outputs": [
    {
     "data": {
      "text/plain": [
       "Load      Swaziland load  Mozambique load  South Africa load\n",
       "snapshot                                                    \n",
       "now                250.0            650.0            42000.0"
      ],
      "text/html": [
       "<div>\n",
       "<style scoped>\n",
       "    .dataframe tbody tr th:only-of-type {\n",
       "        vertical-align: middle;\n",
       "    }\n",
       "\n",
       "    .dataframe tbody tr th {\n",
       "        vertical-align: top;\n",
       "    }\n",
       "\n",
       "    .dataframe thead th {\n",
       "        text-align: right;\n",
       "    }\n",
       "</style>\n",
       "<table border=\"1\" class=\"dataframe\">\n",
       "  <thead>\n",
       "    <tr style=\"text-align: right;\">\n",
       "      <th>Load</th>\n",
       "      <th>Swaziland load</th>\n",
       "      <th>Mozambique load</th>\n",
       "      <th>South Africa load</th>\n",
       "    </tr>\n",
       "    <tr>\n",
       "      <th>snapshot</th>\n",
       "      <th></th>\n",
       "      <th></th>\n",
       "      <th></th>\n",
       "    </tr>\n",
       "  </thead>\n",
       "  <tbody>\n",
       "    <tr>\n",
       "      <th>now</th>\n",
       "      <td>250.0</td>\n",
       "      <td>650.0</td>\n",
       "      <td>42000.0</td>\n",
       "    </tr>\n",
       "  </tbody>\n",
       "</table>\n",
       "</div>"
      ]
     },
     "execution_count": 16,
     "metadata": {},
     "output_type": "execute_result"
    }
   ],
   "execution_count": 16
  },
  {
   "metadata": {},
   "cell_type": "code",
   "outputs": [],
   "execution_count": null,
   "source": "",
   "id": "b0eb691c2f1ccc35"
  }
 ],
 "metadata": {
  "kernelspec": {
   "display_name": "Python 3",
   "language": "python",
   "name": "python3"
  },
  "language_info": {
   "codemirror_mode": {
    "name": "ipython",
    "version": 2
   },
   "file_extension": ".py",
   "mimetype": "text/x-python",
   "name": "python",
   "nbconvert_exporter": "python",
   "pygments_lexer": "ipython2",
   "version": "2.7.6"
  }
 },
 "nbformat": 4,
 "nbformat_minor": 5
}
